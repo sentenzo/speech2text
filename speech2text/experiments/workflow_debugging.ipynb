{
 "cells": [
  {
   "cell_type": "code",
   "execution_count": null,
   "metadata": {},
   "outputs": [],
   "source": [
    "%load_ext autoreload\n",
    "%autoreload 2"
   ]
  },
  {
   "cell_type": "code",
   "execution_count": null,
   "metadata": {},
   "outputs": [],
   "source": [
    "from pprint import pprint as pp\n",
    "from pathlib import Path\n",
    "\n",
    "from speech2text.listener import WavFileListener, MicrophoneListener\n",
    "from speech2text.audio_data import WavData, PdData, NpData, WHISPER_PCM_PARAMS\n",
    "\n",
    "\n",
    "IN_FILE_ROOT_PATH = Path(\"../../tests/audio_samples\")\n",
    "IN_FILE_PATH = IN_FILE_ROOT_PATH / \"en_chunk.wav\""
   ]
  },
  {
   "cell_type": "code",
   "execution_count": null,
   "metadata": {},
   "outputs": [],
   "source": [
    "from speech2text.settings import app_settings\n",
    "\n",
    "pp(app_settings.model_dump())"
   ]
  },
  {
   "cell_type": "code",
   "execution_count": null,
   "metadata": {},
   "outputs": [],
   "source": [
    "from speech2text.transcriber import Workflow\n",
    "\n",
    "wf = Workflow()  # <- cold start (can take up to 40 sec)"
   ]
  },
  {
   "cell_type": "code",
   "execution_count": null,
   "metadata": {},
   "outputs": [],
   "source": [
    "wf.strategy.cold_start()"
   ]
  },
  {
   "cell_type": "code",
   "execution_count": null,
   "metadata": {},
   "outputs": [],
   "source": [
    "from speech2text.transcriber.strategy import DEFAULT_STRATEGY\n",
    "from speech2text.transcriber.workflow import Workflow\n",
    "\n",
    "wav_data = WavData.load_from_wav_file(IN_FILE_PATH)\n",
    "workflow = Workflow(\n",
    "    strategy=DEFAULT_STRATEGY, input_pcm_params=wav_data.pcm_params\n",
    ")\n",
    "\n",
    "for chunk in wav_data.split_in_chunks(0.8):\n",
    "    workflow.process_chunk(chunk)\n",
    "\n",
    "    for block in workflow.state.finalized:\n",
    "        print(\"::\", block.text)\n",
    "    print(\":>\", workflow.state.ongoing.text)\n",
    "    workflow.state.ongoing.arr_data.ipy_show_player()"
   ]
  }
 ],
 "metadata": {
  "kernelspec": {
   "display_name": ".venv",
   "language": "python",
   "name": "python3"
  },
  "language_info": {
   "codemirror_mode": {
    "name": "ipython",
    "version": 3
   },
   "file_extension": ".py",
   "mimetype": "text/x-python",
   "name": "python",
   "nbconvert_exporter": "python",
   "pygments_lexer": "ipython3",
   "version": "3.11.3"
  }
 },
 "nbformat": 4,
 "nbformat_minor": 2
}
